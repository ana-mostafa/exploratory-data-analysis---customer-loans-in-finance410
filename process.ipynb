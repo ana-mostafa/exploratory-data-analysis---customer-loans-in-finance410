{
 "cells": [
  {
   "cell_type": "code",
   "execution_count": null,
   "metadata": {},
   "outputs": [],
   "source": [
    "import pandas as pd\n",
    "from DataTransform import DataTransform\n",
    "from DataFrameInfo import DataFrameInfo\n",
    "from DataFrameTransform import DataFrameTransform\n",
    "from Plotter import Plotter\n"
   ]
  },
  {
   "cell_type": "code",
   "execution_count": null,
   "metadata": {},
   "outputs": [],
   "source": [
    "transformer = DataTransform()"
   ]
  },
  {
   "cell_type": "code",
   "execution_count": null,
   "metadata": {},
   "outputs": [],
   "source": [
    "pd.set_option('display.max_columns', None)  # Show all columns\n",
    "pd.set_option('display.max_rows', None)     # Show all rows"
   ]
  },
  {
   "cell_type": "code",
   "execution_count": null,
   "metadata": {},
   "outputs": [],
   "source": [
    "df = pd.read_csv('/Users/moustafarashed/EDA_Projects/exploratory-data-analysis---customer-loans-in-finance410/loan_payments.csv')"
   ]
  },
  {
   "cell_type": "code",
   "execution_count": null,
   "metadata": {},
   "outputs": [],
   "source": [
    "df.head()"
   ]
  },
  {
   "cell_type": "code",
   "execution_count": null,
   "metadata": {},
   "outputs": [],
   "source": [
    "unique_count = df.nunique()\n",
    "\n",
    "# Creating a DataFrame to display column names and their unique value counts\n",
    "unique_count_df = pd.DataFrame({'Column Name': unique_count.index, 'Unique Values Count': unique_count.values})\n",
    "\n",
    "# Displaying the DataFrame\n",
    "print(unique_count_df)"
   ]
  },
  {
   "cell_type": "code",
   "execution_count": null,
   "metadata": {},
   "outputs": [],
   "source": [
    "categorical_columns = ['term', 'grade','sub_grade', 'employment_length', 'home_ownership', 'verification_status', 'loan_status','payment_plan', 'purpose', 'policy_code', 'application_type']"
   ]
  },
  {
   "cell_type": "code",
   "execution_count": null,
   "metadata": {},
   "outputs": [],
   "source": [
    "df = transformer.convert_to_categorical(df, categorical_columns)"
   ]
  },
  {
   "cell_type": "code",
   "execution_count": null,
   "metadata": {},
   "outputs": [],
   "source": [
    "date_time_columns = ['issue_date', 'earliest_credit_line', 'last_payment_date', 'next_payment_date'\t,'last_credit_pull_date']"
   ]
  },
  {
   "cell_type": "code",
   "execution_count": null,
   "metadata": {},
   "outputs": [],
   "source": [
    "df = transformer.convert_to_datetime(df, date_time_columns)"
   ]
  },
  {
   "cell_type": "code",
   "execution_count": null,
   "metadata": {},
   "outputs": [],
   "source": [
    "numeric_columns = ['funded_amount','annual_inc', 'mths_since_last_delinq',\t'mths_since_last_record','mths_since_last_major_derog']"
   ]
  },
  {
   "cell_type": "code",
   "execution_count": null,
   "metadata": {},
   "outputs": [],
   "source": [
    "df = transformer.convert_to_numeric(df, numeric_columns)"
   ]
  },
  {
   "cell_type": "code",
   "execution_count": null,
   "metadata": {},
   "outputs": [],
   "source": [
    "nan_counts = df[numeric_columns].isna().sum()\n",
    "nan_counts"
   ]
  },
  {
   "cell_type": "code",
   "execution_count": null,
   "metadata": {},
   "outputs": [],
   "source": [
    "df_info  = DataFrameInfo(df)"
   ]
  },
  {
   "cell_type": "code",
   "execution_count": 146,
   "metadata": {},
   "outputs": [
    {
     "name": "stdout",
     "output_type": "stream",
     "text": [
      "id                                      int64\n",
      "member_id                               int64\n",
      "loan_amount                             int64\n",
      "funded_amount                         float64\n",
      "funded_amount_inv                     float64\n",
      "term                                 category\n",
      "int_rate                              float64\n",
      "instalment                            float64\n",
      "grade                                category\n",
      "sub_grade                            category\n",
      "employment_length                    category\n",
      "home_ownership                       category\n",
      "annual_inc                            float64\n",
      "verification_status                  category\n",
      "issue_date                     datetime64[ns]\n",
      "loan_status                          category\n",
      "payment_plan                         category\n",
      "purpose                              category\n",
      "dti                                   float64\n",
      "delinq_2yrs                             int64\n",
      "earliest_credit_line           datetime64[ns]\n",
      "inq_last_6mths                          int64\n",
      "mths_since_last_delinq                float64\n",
      "mths_since_last_record                float64\n",
      "open_accounts                           int64\n",
      "total_accounts                          int64\n",
      "out_prncp                             float64\n",
      "out_prncp_inv                         float64\n",
      "total_payment                         float64\n",
      "total_payment_inv                     float64\n",
      "total_rec_prncp                       float64\n",
      "total_rec_int                         float64\n",
      "total_rec_late_fee                    float64\n",
      "recoveries                            float64\n",
      "collection_recovery_fee               float64\n",
      "last_payment_date              datetime64[ns]\n",
      "last_payment_amount                   float64\n",
      "next_payment_date              datetime64[ns]\n",
      "last_credit_pull_date          datetime64[ns]\n",
      "collections_12_mths_ex_med            float64\n",
      "mths_since_last_major_derog           float64\n",
      "policy_code                          category\n",
      "application_type                     category\n",
      "dtype: object\n",
      "                 id     member_id   loan_amount  funded_amount  \\\n",
      "count  5.423100e+04  5.423100e+04  54231.000000   51224.000000   \n",
      "mean   7.621797e+06  8.655350e+06  13333.076100   13229.509117   \n",
      "min    5.552100e+04  7.069400e+04    500.000000     500.000000   \n",
      "25%    7.594330e+05  9.587720e+05   7000.000000    7000.000000   \n",
      "50%    7.084590e+06  8.709873e+06  12000.000000   12000.000000   \n",
      "75%    8.860616e+06  1.052714e+07  18000.000000   18000.000000   \n",
      "max    3.867612e+07  4.146185e+07  35000.000000   35000.000000   \n",
      "std    9.571362e+06  1.031281e+07   8082.196709    8019.017599   \n",
      "\n",
      "       funded_amount_inv      int_rate    instalment    annual_inc  \\\n",
      "count       54231.000000  49062.000000  54231.000000  5.423100e+04   \n",
      "mean        12952.622979     13.507328    400.013953  7.222085e+04   \n",
      "min             0.000000      5.420000     15.670000  3.300000e+03   \n",
      "25%          6700.000000     10.370000    224.205000  4.500000e+04   \n",
      "50%         11300.000000     13.160000    347.150000  6.100000e+04   \n",
      "75%         18000.000000     16.200000    527.550000  8.600000e+04   \n",
      "max         35000.000000     26.060000   1407.010000  2.039784e+06   \n",
      "std          8099.473527      4.392893    238.920012  5.158934e+04   \n",
      "\n",
      "                          issue_date           dti   delinq_2yrs  \\\n",
      "count                          54231  54231.000000  54231.000000   \n",
      "mean   2018-09-17 11:41:04.855894272     15.867087      0.241799   \n",
      "min              2013-06-01 00:00:00      0.000000      0.000000   \n",
      "25%              2017-05-01 00:00:00     10.200000      0.000000   \n",
      "50%              2019-09-01 00:00:00     15.600000      0.000000   \n",
      "75%              2019-11-01 00:00:00     21.260000      0.000000   \n",
      "max              2021-01-01 00:00:00     39.910000     18.000000   \n",
      "std                              NaN      7.623124      0.706706   \n",
      "\n",
      "                earliest_credit_line  inq_last_6mths  mths_since_last_delinq  \\\n",
      "count                          54231    54231.000000             23229.00000   \n",
      "mean   1997-06-06 07:12:44.131216512        0.893843                34.01920   \n",
      "min              1950-12-01 00:00:00        0.000000                 0.00000   \n",
      "25%              1993-12-01 00:00:00        0.000000                15.00000   \n",
      "50%              1998-10-01 00:00:00        1.000000                31.00000   \n",
      "75%              2002-04-01 00:00:00        1.000000                49.00000   \n",
      "max              2011-11-01 00:00:00       33.000000               146.00000   \n",
      "std                              NaN        1.261421                21.92324   \n",
      "\n",
      "       mths_since_last_record  open_accounts  total_accounts     out_prncp  \\\n",
      "count             6181.000000   54231.000000    54231.000000  54231.000000   \n",
      "mean                74.829154      10.559809       24.168206   2753.964172   \n",
      "min                  0.000000       1.000000        1.000000      0.000000   \n",
      "25%                 53.000000       7.000000       16.000000      0.000000   \n",
      "50%                 87.000000      10.000000       23.000000      0.000000   \n",
      "75%                103.000000      13.000000       31.000000   3397.325000   \n",
      "max                119.000000      53.000000      108.000000  32399.940000   \n",
      "std                 36.137264       4.797169       11.587025   5154.893646   \n",
      "\n",
      "       out_prncp_inv  total_payment  total_payment_inv  total_rec_prncp  \\\n",
      "count   54231.000000   54231.000000       54231.000000     54231.000000   \n",
      "mean     2752.568147   12079.208480       11788.946618      9407.048589   \n",
      "min         0.000000       0.000000           0.000000         0.000000   \n",
      "25%         0.000000    5895.210000        5658.815000      4264.350000   \n",
      "50%         0.000000   10113.250000        9835.830000      7644.920000   \n",
      "75%      3394.980000   16272.895000       15978.200000     12505.625000   \n",
      "max     32399.940000   55758.222084       55061.000000     35000.020000   \n",
      "std      5153.043643    8391.043845        8363.508506      6958.124264   \n",
      "\n",
      "       total_rec_int  total_rec_late_fee    recoveries  \\\n",
      "count   54231.000000        54231.000000  54231.000000   \n",
      "mean     2577.757101            0.901512     93.501288   \n",
      "min         0.000000            0.000000      0.000000   \n",
      "25%       889.560000            0.000000      0.000000   \n",
      "50%      1734.640000            0.000000      0.000000   \n",
      "75%      3323.765000            0.000000      0.000000   \n",
      "max     23062.450000          358.680000  27750.000000   \n",
      "std      2581.657345            6.215792    630.843636   \n",
      "\n",
      "       collection_recovery_fee              last_payment_date  \\\n",
      "count             54231.000000                          54158   \n",
      "mean                 10.859057  2020-08-23 00:21:38.600391680   \n",
      "min                   0.000000            2013-12-01 00:00:00   \n",
      "25%                   0.000000            2019-11-01 00:00:00   \n",
      "50%                   0.000000            2021-04-01 00:00:00   \n",
      "75%                   0.000000            2022-01-01 00:00:00   \n",
      "max                7002.190000            2022-01-01 00:00:00   \n",
      "std                 120.193950                            NaN   \n",
      "\n",
      "       last_payment_amount              next_payment_date  \\\n",
      "count         54231.000000                          21623   \n",
      "mean           3130.706393  2021-10-18 16:47:47.613189632   \n",
      "min               0.000000            2014-01-01 00:00:00   \n",
      "25%             289.790000            2022-02-01 00:00:00   \n",
      "50%             562.670000            2022-02-01 00:00:00   \n",
      "75%            3738.120000            2022-02-01 00:00:00   \n",
      "max           36115.200000            2022-02-01 00:00:00   \n",
      "std            5323.801675                            NaN   \n",
      "\n",
      "               last_credit_pull_date  collections_12_mths_ex_med  \\\n",
      "count                          54224                54180.000000   \n",
      "mean   2021-04-15 16:16:28.964296192                    0.004208   \n",
      "min              2013-05-01 00:00:00                    0.000000   \n",
      "25%              2021-02-01 00:00:00                    0.000000   \n",
      "50%              2022-01-01 00:00:00                    0.000000   \n",
      "75%              2022-01-01 00:00:00                    0.000000   \n",
      "max              2022-01-01 00:00:00                    4.000000   \n",
      "std                              NaN                    0.070990   \n",
      "\n",
      "       mths_since_last_major_derog  \n",
      "count                  7499.000000  \n",
      "mean                     42.253634  \n",
      "min                       0.000000  \n",
      "25%                      26.000000  \n",
      "50%                      42.000000  \n",
      "75%                      59.000000  \n",
      "max                     146.000000  \n",
      "std                      21.052360  \n",
      "id                                 0\n",
      "member_id                          0\n",
      "loan_amount                        0\n",
      "funded_amount                   3007\n",
      "funded_amount_inv                  0\n",
      "term                            4772\n",
      "int_rate                        5169\n",
      "instalment                         0\n",
      "grade                              0\n",
      "sub_grade                          0\n",
      "employment_length               2118\n",
      "home_ownership                     0\n",
      "annual_inc                         0\n",
      "verification_status                0\n",
      "issue_date                         0\n",
      "loan_status                        0\n",
      "payment_plan                       0\n",
      "purpose                            0\n",
      "dti                                0\n",
      "delinq_2yrs                        0\n",
      "earliest_credit_line               0\n",
      "inq_last_6mths                     0\n",
      "mths_since_last_delinq         31002\n",
      "mths_since_last_record         48050\n",
      "open_accounts                      0\n",
      "total_accounts                     0\n",
      "out_prncp                          0\n",
      "out_prncp_inv                      0\n",
      "total_payment                      0\n",
      "total_payment_inv                  0\n",
      "total_rec_prncp                    0\n",
      "total_rec_int                      0\n",
      "total_rec_late_fee                 0\n",
      "recoveries                         0\n",
      "collection_recovery_fee            0\n",
      "last_payment_date                 73\n",
      "last_payment_amount                0\n",
      "next_payment_date              32608\n",
      "last_credit_pull_date              7\n",
      "collections_12_mths_ex_med        51\n",
      "mths_since_last_major_derog    46732\n",
      "policy_code                        0\n",
      "application_type                   0\n",
      "dtype: int64\n",
      "id                             0.000000\n",
      "member_id                      0.000000\n",
      "loan_amount                    0.000000\n",
      "funded_amount                  0.128949\n",
      "funded_amount_inv              0.000000\n",
      "term                           0.204637\n",
      "int_rate                       0.221662\n",
      "instalment                     0.000000\n",
      "grade                          0.000000\n",
      "sub_grade                      0.000000\n",
      "employment_length              0.090826\n",
      "home_ownership                 0.000000\n",
      "annual_inc                     0.000000\n",
      "verification_status            0.000000\n",
      "issue_date                     0.000000\n",
      "loan_status                    0.000000\n",
      "payment_plan                   0.000000\n",
      "purpose                        0.000000\n",
      "dti                            0.000000\n",
      "delinq_2yrs                    0.000000\n",
      "earliest_credit_line           0.000000\n",
      "inq_last_6mths                 0.000000\n",
      "mths_since_last_delinq         1.329455\n",
      "mths_since_last_record         2.060522\n",
      "open_accounts                  0.000000\n",
      "total_accounts                 0.000000\n",
      "out_prncp                      0.000000\n",
      "out_prncp_inv                  0.000000\n",
      "total_payment                  0.000000\n",
      "total_payment_inv              0.000000\n",
      "total_rec_prncp                0.000000\n",
      "total_rec_int                  0.000000\n",
      "total_rec_late_fee             0.000000\n",
      "recoveries                     0.000000\n",
      "collection_recovery_fee        0.000000\n",
      "last_payment_date              0.003130\n",
      "last_payment_amount            0.000000\n",
      "next_payment_date              1.398325\n",
      "last_credit_pull_date          0.000300\n",
      "collections_12_mths_ex_med     0.002187\n",
      "mths_since_last_major_derog    2.004003\n",
      "policy_code                    0.000000\n",
      "application_type               0.000000\n",
      "dtype: float64\n",
      "Shape of DataFrame: (54231, 43)\n"
     ]
    }
   ],
   "source": [
    "print(df_info.check_data_types())\n",
    "print(df_info.statistical_values())\n",
    "#print(df_info.count_distinct_values())\n",
    "\n",
    "print(df_info.null_values())\n",
    "print(df_info.percentage_null_values())\n",
    "df_info.print_df_shape()"
   ]
  },
  {
   "cell_type": "code",
   "execution_count": null,
   "metadata": {},
   "outputs": [],
   "source": [
    "numeric_df = df.select_dtypes(include=['number'])\n",
    "\n",
    "correlation_matrix = numeric_df.corr()\n",
    "correlation_matrix"
   ]
  },
  {
   "cell_type": "code",
   "execution_count": null,
   "metadata": {},
   "outputs": [],
   "source": [
    "import numpy as np\n",
    "import matplotlib.pyplot as plt\n",
    "\n",
    "# Compute the correlation matrix\n",
    "import seaborn as sns\n",
    "\n",
    "# Generate a mask for the upper triangle\n",
    "mask = np.zeros_like(correlation_matrix, dtype=np.bool_)\n",
    "mask[np.triu_indices_from(mask)] = True\n",
    "\n",
    "# set thins up for plotting\n",
    "cmap = sns.diverging_palette(220, 10, as_cmap=True)\n",
    "\n",
    "# Draw the heatmap\n",
    "sns.heatmap(correlation_matrix, mask=mask, \n",
    "            square=True, linewidths=.5, annot=False, cmap=cmap)\n",
    "plt.yticks(rotation=0)\n",
    "plt.title('Correlation Matrix of all Numerical Variables')\n",
    "plt.show()"
   ]
  },
  {
   "cell_type": "code",
   "execution_count": null,
   "metadata": {},
   "outputs": [],
   "source": [
    "df_transform = DataFrameTransform(df)"
   ]
  },
  {
   "cell_type": "code",
   "execution_count": null,
   "metadata": {},
   "outputs": [],
   "source": [
    "column_to_drop = ['mths_since_last_delinq', 'mths_since_last_record', 'next_payment_date','mths_since_last_major_derog']\n"
   ]
  },
  {
   "cell_type": "code",
   "execution_count": null,
   "metadata": {},
   "outputs": [],
   "source": [
    "#file keeps freezing when i use the method in the class, so i directly used pandas to handle the missing values\n",
    "df = df.drop(columns=column_to_drop, axis=1)\n",
    "#how can i use the p value to check the MCAR????"
   ]
  },
  {
   "cell_type": "code",
   "execution_count": null,
   "metadata": {},
   "outputs": [],
   "source": [
    "df.isnull().sum()"
   ]
  },
  {
   "cell_type": "code",
   "execution_count": null,
   "metadata": {},
   "outputs": [],
   "source": [
    "df.dropna(subset=['last_payment_date'], inplace=True)\n"
   ]
  },
  {
   "cell_type": "code",
   "execution_count": null,
   "metadata": {},
   "outputs": [],
   "source": [
    "df.dropna(subset=['collections_12_mths_ex_med'], inplace=True)\n"
   ]
  },
  {
   "cell_type": "code",
   "execution_count": null,
   "metadata": {},
   "outputs": [],
   "source": [
    "df['term'].fillna(df['term'].mode()[0], inplace=True)"
   ]
  },
  {
   "cell_type": "code",
   "execution_count": null,
   "metadata": {},
   "outputs": [],
   "source": [
    "df['funded_amount'].fillna(df['funded_amount'].mean(), inplace=True)"
   ]
  },
  {
   "cell_type": "code",
   "execution_count": null,
   "metadata": {},
   "outputs": [],
   "source": [
    "df.dropna(subset=['last_credit_pull_date'], inplace=True)\n"
   ]
  },
  {
   "cell_type": "code",
   "execution_count": null,
   "metadata": {},
   "outputs": [],
   "source": [
    "df['int_rate'].fillna(df['int_rate'].mean(), inplace=True)"
   ]
  },
  {
   "cell_type": "code",
   "execution_count": null,
   "metadata": {},
   "outputs": [],
   "source": [
    "df['employment_length'].fillna(df['employment_length'].mode()[0], inplace=True)"
   ]
  },
  {
   "cell_type": "code",
   "execution_count": 147,
   "metadata": {},
   "outputs": [
    {
     "data": {
      "image/png": "[encoded data removed]",
      "text/plain": [
       "<Figure size 1200x500 with 2 Axes>"
      ]
     },
     "metadata": {},
     "output_type": "display_data"
    }
   ],
   "source": [
    "# Create an instance of the Plotter class\n",
    "plotter = Plotter()\n",
    "\n",
    "# Assuming 'df' is your DataFrame, pass it to the visualize_nulls method\n",
    "plotter.visualize_nulls(df)"
   ]
  },
  {
   "cell_type": "code",
   "execution_count": null,
   "metadata": {},
   "outputs": [],
   "source": [
    "numeric_cols = df.select_dtypes(include=['number'])\n",
    "for i in numeric_cols:\n",
    "    print(i)"
   ]
  },
  {
   "cell_type": "code",
   "execution_count": null,
   "metadata": {},
   "outputs": [],
   "source": [
    "skewed_columns = [col for col in numeric_cols if df[col].skew() > 0.5]\n",
    "skewed_columns"
   ]
  },
  {
   "cell_type": "code",
   "execution_count": null,
   "metadata": {},
   "outputs": [],
   "source": [
    "skewness  = numeric_cols.skew()\n",
    "skewness"
   ]
  },
  {
   "cell_type": "code",
   "execution_count": null,
   "metadata": {},
   "outputs": [],
   "source": [
    "skewness  = df[skewed_columns].skew()\n",
    "skewness"
   ]
  },
  {
   "cell_type": "code",
   "execution_count": null,
   "metadata": {},
   "outputs": [],
   "source": [
    "for col in numeric_cols:\n",
    "    df[col] = np.log1p(df[col])"
   ]
  },
  {
   "cell_type": "code",
   "execution_count": null,
   "metadata": {},
   "outputs": [],
   "source": [
    "new_skewness = df[skewed_columns].skew()\n",
    "new_skewness"
   ]
  },
  {
   "cell_type": "code",
   "execution_count": null,
   "metadata": {},
   "outputs": [],
   "source": [
    "plotter.visualize_skew(df)"
   ]
  },
  {
   "cell_type": "code",
   "execution_count": null,
   "metadata": {},
   "outputs": [],
   "source": [
    "plotter.visualize_skew_sns(df, skewed_columns)"
   ]
  },
  {
   "cell_type": "code",
   "execution_count": null,
   "metadata": {},
   "outputs": [],
   "source": [
    "for col in skewed_columns:\n",
    "    if df[col].skew() > 0.5:  # threshhold\n",
    "        df[col] = np.log1p(df[col]) "
   ]
  },
  {
   "cell_type": "code",
   "execution_count": null,
   "metadata": {},
   "outputs": [],
   "source": [
    "plotter.visualize_skew_sns(df, skewed_columns)"
   ]
  },
  {
   "cell_type": "code",
   "execution_count": null,
   "metadata": {},
   "outputs": [],
   "source": [
    "plotter.visualize_outliers(df, numeric_cols)"
   ]
  },
  {
   "cell_type": "code",
   "execution_count": null,
   "metadata": {},
   "outputs": [],
   "source": [
    "cleaned_numeric_column = transformer.remove_outliers(df, numeric_cols)"
   ]
  },
  {
   "cell_type": "code",
   "execution_count": null,
   "metadata": {},
   "outputs": [],
   "source": [
    "plotter.visualize_outliers(df, cleaned_numeric_column)"
   ]
  },
  {
   "cell_type": "code",
   "execution_count": null,
   "metadata": {},
   "outputs": [],
   "source": [
    "numeric_cor = numeric_cols.corr()\n",
    "numeric_cor"
   ]
  },
  {
   "cell_type": "code",
   "execution_count": null,
   "metadata": {},
   "outputs": [],
   "source": [
    "plt.figure(figsize=(10, 8))\n",
    "\n",
    "sns.heatmap(numeric_cor, annot=True, cmap='coolwarm', fmt=\".2f\", annot_kws={\"fontsize\": 8})\n",
    "plt.title('Numeric columns correlation after handling nulls')\n",
    "plt.show()"
   ]
  },
  {
   "cell_type": "code",
   "execution_count": null,
   "metadata": {},
   "outputs": [],
   "source": [
    "corr_threshhold = 0.90\n",
    "# Create a mask to identify highly correlated features\n",
    "upper = numeric_cor.where(np.triu(np.ones(numeric_cor.shape), k=1) == 1)\n",
    "highly_correlated_columns = [column for column in upper.columns if any(upper[column] > corr_threshhold)]\n"
   ]
  },
  {
   "cell_type": "code",
   "execution_count": null,
   "metadata": {},
   "outputs": [],
   "source": [
    "print(\"Highly Correlated Columns:\", highly_correlated_columns)\n"
   ]
  },
  {
   "cell_type": "code",
   "execution_count": null,
   "metadata": {},
   "outputs": [],
   "source": [
    "#df_without_highly_correlated_columns = df.drop(highly_correlated_columns, axis=1)\n"
   ]
  },
  {
   "cell_type": "code",
   "execution_count": null,
   "metadata": {},
   "outputs": [],
   "source": [
    "#df_without_highly_correlated_columns.head()"
   ]
  },
  {
   "cell_type": "code",
   "execution_count": null,
   "metadata": {},
   "outputs": [],
   "source": [
    "#calculate the total recovery percantage and total funded percentage using the funded_amount_inv as the funded amount column has been removed in the transformation\n",
    "#df['recovery_percentage'] = (df['recoveries']/df['funded_amount_inv'])*100\n",
    "#df['total_payment_percentage'] = (df['total_payment']/df['funded_amount_inv'])*100\n",
    "\n",
    "#filtered_recovery = df['recovery_percentage'][np.isfinite(df['recovery_percentage'])]\n",
    "#filtered_total_payment = df['total_payment_percentage'][np.isfinite(df['total_payment_percentage'])]"
   ]
  },
  {
   "cell_type": "code",
   "execution_count": null,
   "metadata": {},
   "outputs": [],
   "source": [
    "total_recovery = df['total_rec_prncp'].sum()\n",
    "total_funded = df['funded_amount'].sum()\n",
    "print('Total recovery = ',total_recovery,' Total funded = ', total_funded)"
   ]
  },
  {
   "cell_type": "code",
   "execution_count": 148,
   "metadata": {},
   "outputs": [
    {
     "name": "stdout",
     "output_type": "stream",
     "text": [
      "id\n",
      "member_id\n",
      "loan_amount\n",
      "funded_amount\n",
      "funded_amount_inv\n",
      "term\n",
      "int_rate\n",
      "instalment\n",
      "grade\n",
      "sub_grade\n",
      "employment_length\n",
      "home_ownership\n",
      "annual_inc\n",
      "verification_status\n",
      "issue_date\n",
      "loan_status\n",
      "payment_plan\n",
      "purpose\n",
      "dti\n",
      "delinq_2yrs\n",
      "earliest_credit_line\n",
      "inq_last_6mths\n",
      "open_accounts\n",
      "total_accounts\n",
      "out_prncp\n",
      "out_prncp_inv\n",
      "total_payment\n",
      "total_payment_inv\n",
      "total_rec_prncp\n",
      "total_rec_int\n",
      "total_rec_late_fee\n",
      "recoveries\n",
      "collection_recovery_fee\n",
      "last_payment_date\n",
      "last_payment_amount\n",
      "last_credit_pull_date\n",
      "collections_12_mths_ex_med\n",
      "policy_code\n",
      "application_type\n",
      "last_installment_date\n",
      "months_left\n"
     ]
    }
   ],
   "source": [
    "for i in df:\n",
    "    print(i)"
   ]
  },
  {
   "cell_type": "code",
   "execution_count": null,
   "metadata": {},
   "outputs": [],
   "source": [
    "\n",
    "# Data for the pie chart\n",
    "percentages = [total_recovery, total_funded]\n",
    "labels = ['Recovery Percentage', 'Total funded Percentage']\n",
    "\n",
    "# Plotting the pie chart\n",
    "plt.pie(percentages, labels=labels, autopct='%1.1f%%', startangle=140)\n",
    "plt.title('Contribution of Recovery and Total Payment Percentages')\n",
    "plt.show()\n"
   ]
  },
  {
   "cell_type": "code",
   "execution_count": null,
   "metadata": {},
   "outputs": [],
   "source": [
    "#extract the number of month from term column and convert it to integer\n",
    "df['term'] = df['term'].str.extract('(\\d+)', expand=False).astype(int)\n"
   ]
  },
  {
   "cell_type": "code",
   "execution_count": null,
   "metadata": {},
   "outputs": [],
   "source": [
    "df['issue_date'] = pd.to_datetime(df['issue_date'])\n",
    "\n",
    "last_installment_dates = []\n",
    "for index, row in df.iterrows():\n",
    "    last_installment_date = row['issue_date'] + pd.DateOffset(months=row['term'])\n",
    "    last_installment_dates.append(last_installment_date)\n",
    "\n",
    "# Add the calculated dates as a new column\n",
    "df['last_installment_date'] = last_installment_dates"
   ]
  },
  {
   "cell_type": "code",
   "execution_count": null,
   "metadata": {},
   "outputs": [],
   "source": [
    "#another column how many month left which is the last installment- the last paymentdate need to be integer dt\n",
    "\n",
    "df['months_left'] = (df['last_installment_date'] - df['last_payment_date']) // pd.Timedelta(days=30)\n",
    "negative_values_count = (df['months_left'] < 0).sum()\n",
    "print(negative_values_count)\n"
   ]
  },
  {
   "cell_type": "code",
   "execution_count": null,
   "metadata": {},
   "outputs": [],
   "source": [
    "max_6_months = df[df['months_left'] <= 6]\n",
    "\n",
    "# Sum the amounts for loans with a maximum term of 6 months\n",
    "sum_installments_max_6_months = max_6_months['instalment'].sum()\n",
    "\n",
    "print(\"Total amount of installments for loans with a maximum term of 6 months:\", sum_installments_max_6_months)"
   ]
  },
  {
   "cell_type": "code",
   "execution_count": null,
   "metadata": {},
   "outputs": [],
   "source": [
    "df.head()"
   ]
  },
  {
   "cell_type": "code",
   "execution_count": null,
   "metadata": {},
   "outputs": [],
   "source": [
    "#create a new column for the last installment will be paid.(the term plus issue_date). \n",
    "#another column how many month left which is the last installment- the last paymentdate need to be integer dt\n",
    "\n",
    "#filtering by creating 2 df , one for the less than 6 month left and another for the rest\n",
    "#for the less than 6 month month left * intsallment.\n",
    "#for the other df installment column * 6 \n",
    "#sum of both df instalment amount compared to the funded amount"
   ]
  },
  {
   "cell_type": "code",
   "execution_count": null,
   "metadata": {},
   "outputs": [],
   "source": [
    "#calculating loss\n",
    "#filtering by charged off loans\n",
    "charged_off_loans = df[df['loan_status']=='Charged Off']\n",
    "len(charged_off_loans)"
   ]
  },
  {
   "cell_type": "code",
   "execution_count": null,
   "metadata": {},
   "outputs": [],
   "source": [
    "charged_off_loans.head()"
   ]
  },
  {
   "cell_type": "code",
   "execution_count": null,
   "metadata": {},
   "outputs": [],
   "source": [
    "#charged off loans total paymennts\n",
    "total_loss_for_charged_off_loans = charged_off_loans['total_payment'].sum()\n",
    "total_loss_for_charged_off_loans"
   ]
  },
  {
   "cell_type": "code",
   "execution_count": null,
   "metadata": {},
   "outputs": [],
   "source": [
    "#percentage of charged off loans\n",
    "percentage_of_charged_off_loans_against_all_loans = (charged_off_loans.shape[0]/df.shape[0])*100\n",
    "percentage_of_charged_off_loans_against_all_loans"
   ]
  },
  {
   "cell_type": "code",
   "execution_count": null,
   "metadata": {},
   "outputs": [],
   "source": [
    "#calculate projected loss\n",
    "projected_loss = (charged_off_loans['instalment']*charged_off_loans['term']) - charged_off_loans['total_payment']\n",
    "\n",
    "projected_loss_sum = (charged_off_loans['instalment']*charged_off_loans['term']).sum() - charged_off_loans['total_payment'].sum()\n",
    "projected_loss_sum"
   ]
  },
  {
   "cell_type": "code",
   "execution_count": null,
   "metadata": {},
   "outputs": [],
   "source": [
    "remaining_term = charged_off_loans['months_left']\n",
    "charged_off_loans['potential_revenue_loss'] = projected_loss / remaining_term\n"
   ]
  },
  {
   "cell_type": "code",
   "execution_count": null,
   "metadata": {},
   "outputs": [],
   "source": [
    "aggregated_loss = charged_off_loans.groupby('months_left')['potential_revenue_loss'].sum()\n"
   ]
  },
  {
   "cell_type": "code",
   "execution_count": null,
   "metadata": {},
   "outputs": [],
   "source": [
    "plt.figure(figsize=(12, 8))\n",
    "aggregated_loss.plot(kind='bar', color='skyblue')\n",
    "plt.xlabel('Remaining Term')\n",
    "plt.ylabel('Aggregated Projected Loss')\n",
    "plt.title('Aggregated Projected Loss of Charged Off Loans over Remaining Term')\n",
    "plt.xticks(rotation=0)\n",
    "plt.tight_layout()\n",
    "plt.show()"
   ]
  },
  {
   "cell_type": "code",
   "execution_count": null,
   "metadata": {},
   "outputs": [],
   "source": [
    "#calculate possible loss\n",
    "#list all loan status to decide which of them to use\n",
    "unique_loan_status = df['loan_status'].unique()\n",
    "for each_status in unique_loan_status:\n",
    "    print(each_status)"
   ]
  },
  {
   "cell_type": "code",
   "execution_count": null,
   "metadata": {},
   "outputs": [],
   "source": [
    "#filter by late payments and calculate the percentage against all loans, and the number of late payers\n",
    "late_payments = df[df['loan_status'].isin(['Late (31-120 days)', 'Late (16-30 days)', 'In Grace Period'])]\n",
    "#percentage of loans behind in their payments but not yet charged off\n",
    "late_payment_percentage = (len(late_payments))/(len(df))*100\n",
    "#number of loans late in payments \n",
    "total_number_of_late_payers = len(late_payments)\n",
    "total_number_of_late_payers"
   ]
  },
  {
   "cell_type": "code",
   "execution_count": null,
   "metadata": {},
   "outputs": [],
   "source": [
    "#calculating the total amount of projected loss for late payers after subtracting what they have paid so far\n",
    "late_payments['remaining balance'] = (late_payments['instalment']*late_payments['term'])-late_payments['total_payment']\n",
    "total_loss_if_not_transfered_to_charged_off = late_payments['remaining balance'].sum()\n",
    "print(total_loss_if_not_transfered_to_charged_off)\n"
   ]
  },
  {
   "cell_type": "code",
   "execution_count": null,
   "metadata": {},
   "outputs": [],
   "source": [
    "#total loss for both charged off loans plus late loans\n",
    "total_loss= total_loss_if_not_transfered_to_charged_off + aggregated_loss\n",
    "total_loss.sum()"
   ]
  },
  {
   "cell_type": "code",
   "execution_count": null,
   "metadata": {},
   "outputs": [],
   "source": [
    "#percentage of number of all loans that are charged off or late on payments against total number of loans\n",
    "print(len(total_loss) / len(df)*100)"
   ]
  },
  {
   "cell_type": "code",
   "execution_count": null,
   "metadata": {},
   "outputs": [],
   "source": [
    "(total_loss.sum()/df['loan_amount'].sum())*100"
   ]
  },
  {
   "cell_type": "code",
   "execution_count": null,
   "metadata": {},
   "outputs": [],
   "source": [
    "#indicators of loss\n",
    "# Analyzing loan purpose\n",
    "fig, axs = plt.subplots(1, 2, figsize=(14, 6))\n",
    "\n",
    "charged_off_loans['purpose'].value_counts().plot(kind='bar', ax=axs[0], title='Charged Off - Loan Purpose')\n",
    "late_payments['purpose'].value_counts().plot(kind='bar', ax=axs[1], title='Late Payments - Loan Purpose')\n",
    "\n",
    "plt.tight_layout()\n",
    "plt.show()\n"
   ]
  },
  {
   "cell_type": "code",
   "execution_count": null,
   "metadata": {},
   "outputs": [],
   "source": [
    "#analysing home ownership\n",
    "fig, axs = plt.subplots(1, 2, figsize=(12, 6))\n",
    "\n",
    "charged_off_loans['home_ownership'].value_counts().plot(kind='bar', ax=axs[0], title='Charged Off - Home Ownership')\n",
    "late_payments['home_ownership'].value_counts().plot(kind='bar', ax=axs[1], title='Late Payments - Home Ownership')\n",
    "\n",
    "plt.tight_layout()\n",
    "plt.show()"
   ]
  },
  {
   "cell_type": "code",
   "execution_count": null,
   "metadata": {},
   "outputs": [],
   "source": [
    "#analysing loan grades\n",
    "fig, axs = plt.subplots(1, 2, figsize=(12, 6))\n",
    "\n",
    "charged_off_loans['grade'].value_counts().sort_index().plot(kind='bar', ax=axs[0], title='Charged Off - Loan Grades')\n",
    "late_payments['grade'].value_counts().sort_index().plot(kind='bar', ax=axs[1], title='Late Payments - Loan Grades')\n",
    "\n",
    "plt.tight_layout()\n",
    "plt.show()"
   ]
  },
  {
   "cell_type": "code",
   "execution_count": 150,
   "metadata": {},
   "outputs": [
    {
     "data": {
      "image/png": "[encoded data removed]",
      "text/plain": [
       "<Figure size 1200x800 with 2 Axes>"
      ]
     },
     "metadata": {},
     "output_type": "display_data"
    }
   ],
   "source": [
    "#analysing payment plan\n",
    "fig, axs = plt.subplots(1,2, figsize = (12,8))\n",
    "\n",
    "charged_off_loans['payment_plan'].value_counts().plot(kind = 'bar', ax=axs[0], title = 'Charged Off - Payment Plan')\n",
    "late_payments['payment_plan'].value_counts().plot(kind = 'bar', ax=axs[1], title = 'Late Payments - Payment Plan')\n",
    "plt.tight_layout()\n",
    "\n",
    "plt.show()"
   ]
  },
  {
   "cell_type": "code",
   "execution_count": 151,
   "metadata": {},
   "outputs": [
    {
     "data": {
      "image/png": "[encoded data removed]",
      "text/plain": [
       "<Figure size 1200x600 with 2 Axes>"
      ]
     },
     "metadata": {},
     "output_type": "display_data"
    }
   ],
   "source": [
    "#analysing intereset rate\n",
    "fig, axs = plt.subplots(1, 2, figsize=(12, 6))\n",
    "\n",
    "charged_off_loans['int_rate'].hist(ax=axs[0], bins=20, color='red', alpha=0.7)\n",
    "axs[0].set_title('Charged Off - Interest Rates')\n",
    "axs[0].set_xlabel('Interest Rate')\n",
    "axs[0].set_ylabel('Frequency')\n",
    "\n",
    "late_payments['int_rate'].hist(ax=axs[1], bins=20, color='blue', alpha=0.7)\n",
    "axs[1].set_title('Late Payments - Interest Rates')\n",
    "axs[1].set_xlabel('Interest Rate')\n",
    "axs[1].set_ylabel('Frequency')\n",
    "\n",
    "plt.tight_layout()\n",
    "plt.show()"
   ]
  },
  {
   "cell_type": "code",
   "execution_count": null,
   "metadata": {},
   "outputs": [],
   "source": []
  }
 ],
 "metadata": {
  "kernelspec": {
   "display_name": "myenv",
   "language": "python",
   "name": "python3"
  },
  "language_info": {
   "codemirror_mode": {
    "name": "ipython",
    "version": 3
   },
   "file_extension": ".py",
   "mimetype": "text/x-python",
   "name": "python",
   "nbconvert_exporter": "python",
   "pygments_lexer": "ipython3",
   "version": "3.12.0"
  }
 },
 "nbformat": 4,
 "nbformat_minor": 2
}
