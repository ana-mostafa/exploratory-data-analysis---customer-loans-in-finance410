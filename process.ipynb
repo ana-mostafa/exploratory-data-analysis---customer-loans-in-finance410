{
 "cells": [
  {
   "cell_type": "code",
   "execution_count": null,
   "metadata": {},
   "outputs": [],
   "source": [
    "import pandas as pd\n",
    "from DataTransform import DataTransform\n",
    "from DataFrameInfo import DataFrameInfo\n",
    "from DataFrameTransform import DataFrameTransform\n",
    "from Plotter import Plotter\n"
   ]
  },
  {
   "cell_type": "code",
   "execution_count": null,
   "metadata": {},
   "outputs": [],
   "source": [
    "transformer = DataTransform()"
   ]
  },
  {
   "cell_type": "code",
   "execution_count": null,
   "metadata": {},
   "outputs": [],
   "source": [
    "pd.set_option('display.max_columns', None)  # Show all columns\n",
    "pd.set_option('display.max_rows', None)     # Show all rows"
   ]
  },
  {
   "cell_type": "code",
   "execution_count": null,
   "metadata": {},
   "outputs": [],
   "source": [
    "df = pd.read_csv('/Users/moustafarashed/EDA_Projects/exploratory-data-analysis---customer-loans-in-finance410/loan_payments.csv')"
   ]
  },
  {
   "cell_type": "code",
   "execution_count": null,
   "metadata": {},
   "outputs": [],
   "source": [
    "df.head()"
   ]
  },
  {
   "cell_type": "code",
   "execution_count": 138,
   "metadata": {},
   "outputs": [
    {
     "name": "stdout",
     "output_type": "stream",
     "text": [
      "                   Column Name  Unique Values Count\n",
      "0                           id                54231\n",
      "1                    member_id                54231\n",
      "2                  loan_amount                 1083\n",
      "3            funded_amount_inv                 5261\n",
      "4                   instalment                19940\n",
      "5                        grade                    7\n",
      "6                    sub_grade                   35\n",
      "7               home_ownership                    5\n",
      "8                   annual_inc                 6132\n",
      "9          verification_status                    3\n",
      "10                  issue_date                   61\n",
      "11                 loan_status                    9\n",
      "12                payment_plan                    2\n",
      "13                     purpose                   14\n",
      "14                         dti                 3611\n",
      "15                 delinq_2yrs                   16\n",
      "16        earliest_credit_line                  587\n",
      "17              inq_last_6mths                   24\n",
      "18               open_accounts                   48\n",
      "19              total_accounts                   88\n",
      "20                   out_prncp                17673\n",
      "21               out_prncp_inv                17872\n",
      "22               total_payment                51698\n",
      "23           total_payment_inv                51561\n",
      "24             total_rec_prncp                25117\n",
      "25               total_rec_int                49331\n",
      "26          total_rec_late_fee                 1439\n",
      "27                  recoveries                 3599\n",
      "28     collection_recovery_fee                 2944\n",
      "29           last_payment_date                   98\n",
      "30         last_payment_amount                38235\n",
      "31       last_credit_pull_date                  101\n",
      "32  collections_12_mths_ex_med                    6\n",
      "33                 policy_code                    1\n",
      "34            application_type                    1\n",
      "35         recovery_percentage                 3648\n",
      "36    total_payment_percentage                52176\n"
     ]
    }
   ],
   "source": [
    "unique_count = df.nunique()\n",
    "\n",
    "# Creating a DataFrame to display column names and their unique value counts\n",
    "unique_count_df = pd.DataFrame({'Column Name': unique_count.index, 'Unique Values Count': unique_count.values})\n",
    "\n",
    "# Displaying the DataFrame\n",
    "print(unique_count_df)"
   ]
  },
  {
   "cell_type": "code",
   "execution_count": null,
   "metadata": {},
   "outputs": [],
   "source": [
    "categorical_columns = ['term', 'grade','sub_grade', 'employment_length', 'home_ownership', 'verification_status', 'loan_status','payment_plan', 'purpose', 'policy_code', 'application_type']"
   ]
  },
  {
   "cell_type": "code",
   "execution_count": null,
   "metadata": {},
   "outputs": [],
   "source": [
    "df = transformer.convert_to_categorical(df, categorical_columns)"
   ]
  },
  {
   "cell_type": "code",
   "execution_count": null,
   "metadata": {},
   "outputs": [],
   "source": [
    "date_time_columns = ['issue_date', 'earliest_credit_line', 'last_payment_date', 'next_payment_date'\t,'last_credit_pull_date']"
   ]
  },
  {
   "cell_type": "code",
   "execution_count": null,
   "metadata": {},
   "outputs": [],
   "source": [
    "df = transformer.convert_to_datetime(df, date_time_columns)"
   ]
  },
  {
   "cell_type": "code",
   "execution_count": null,
   "metadata": {},
   "outputs": [],
   "source": [
    "numeric_columns = ['funded_amount','annual_inc', 'mths_since_last_delinq',\t'mths_since_last_record','mths_since_last_major_derog']"
   ]
  },
  {
   "cell_type": "code",
   "execution_count": null,
   "metadata": {},
   "outputs": [],
   "source": [
    "df = transformer.convert_to_numeric(df, numeric_columns)"
   ]
  },
  {
   "cell_type": "code",
   "execution_count": null,
   "metadata": {},
   "outputs": [],
   "source": [
    "nan_counts = df[numeric_columns].isna().sum()\n",
    "nan_counts"
   ]
  },
  {
   "cell_type": "code",
   "execution_count": null,
   "metadata": {},
   "outputs": [],
   "source": [
    "df_info  = DataFrameInfo(df)"
   ]
  },
  {
   "cell_type": "code",
   "execution_count": null,
   "metadata": {},
   "outputs": [],
   "source": [
    "print(df_info.check_data_types())\n",
    "print(df_info.statistical_values())\n",
    "#print(df_info.count_distinct_values())\n",
    "\n",
    "print(df_info.null_values())\n",
    "print(df_info.percentage_null_values())\n",
    "df_info.print_df_shape()"
   ]
  },
  {
   "cell_type": "code",
   "execution_count": null,
   "metadata": {},
   "outputs": [],
   "source": [
    "numeric_df = df.select_dtypes(include=['number'])\n",
    "\n",
    "correlation_matrix = numeric_df.corr()\n",
    "correlation_matrix"
   ]
  },
  {
   "cell_type": "code",
   "execution_count": null,
   "metadata": {},
   "outputs": [],
   "source": [
    "import numpy as np\n",
    "import matplotlib.pyplot as plt\n",
    "\n",
    "# Compute the correlation matrix\n",
    "import seaborn as sns\n",
    "\n",
    "# Generate a mask for the upper triangle\n",
    "mask = np.zeros_like(correlation_matrix, dtype=np.bool_)\n",
    "mask[np.triu_indices_from(mask)] = True\n",
    "\n",
    "# set thins up for plotting\n",
    "cmap = sns.diverging_palette(220, 10, as_cmap=True)\n",
    "\n",
    "# Draw the heatmap\n",
    "sns.heatmap(correlation_matrix, mask=mask, \n",
    "            square=True, linewidths=.5, annot=False, cmap=cmap)\n",
    "plt.yticks(rotation=0)\n",
    "plt.title('Correlation Matrix of all Numerical Variables')\n",
    "plt.show()"
   ]
  },
  {
   "cell_type": "code",
   "execution_count": null,
   "metadata": {},
   "outputs": [],
   "source": [
    "df_transform = DataFrameTransform(df)"
   ]
  },
  {
   "cell_type": "code",
   "execution_count": null,
   "metadata": {},
   "outputs": [],
   "source": [
    "column_to_drop = ['funded_amount', 'term', 'int_rate', 'employment_length', 'mths_since_last_delinq', 'mths_since_last_record', 'next_payment_date','mths_since_last_major_derog']\n"
   ]
  },
  {
   "cell_type": "code",
   "execution_count": null,
   "metadata": {},
   "outputs": [],
   "source": [
    "#file keeps freezing when i use the method in the class, so i directly used pandas to handle the missing values\n",
    "df = df.drop(columns=column_to_drop, axis=1)\n",
    "#how can i use the p value to check the MCAR????"
   ]
  },
  {
   "cell_type": "code",
   "execution_count": null,
   "metadata": {},
   "outputs": [],
   "source": [
    "df.head()"
   ]
  },
  {
   "cell_type": "code",
   "execution_count": 97,
   "metadata": {},
   "outputs": [
    {
     "data": {
      "text/plain": [
       "id                             0\n",
       "member_id                      0\n",
       "loan_amount                    0\n",
       "funded_amount_inv              0\n",
       "instalment                     0\n",
       "grade                          0\n",
       "sub_grade                      0\n",
       "home_ownership                 0\n",
       "annual_inc                     0\n",
       "verification_status            0\n",
       "issue_date                     0\n",
       "loan_status                    0\n",
       "payment_plan                   0\n",
       "purpose                        0\n",
       "dti                            0\n",
       "delinq_2yrs                    0\n",
       "earliest_credit_line           0\n",
       "inq_last_6mths                 0\n",
       "open_accounts                  0\n",
       "total_accounts                 0\n",
       "out_prncp                      0\n",
       "out_prncp_inv                  0\n",
       "total_payment                  0\n",
       "total_payment_inv              0\n",
       "total_rec_prncp                0\n",
       "total_rec_int                  0\n",
       "total_rec_late_fee             0\n",
       "recoveries                     0\n",
       "collection_recovery_fee        0\n",
       "last_payment_date              0\n",
       "last_payment_amount            0\n",
       "last_credit_pull_date          0\n",
       "collections_12_mths_ex_med     0\n",
       "policy_code                    0\n",
       "application_type               0\n",
       "recovery_percentage           92\n",
       "total_payment_percentage       0\n",
       "dtype: int64"
      ]
     },
     "execution_count": 97,
     "metadata": {},
     "output_type": "execute_result"
    }
   ],
   "source": [
    "df.isnull().sum()"
   ]
  },
  {
   "cell_type": "code",
   "execution_count": null,
   "metadata": {},
   "outputs": [],
   "source": [
    "df['last_payment_date'].fillna(df['last_payment_date'].mode()[0], inplace=True)"
   ]
  },
  {
   "cell_type": "code",
   "execution_count": null,
   "metadata": {},
   "outputs": [],
   "source": [
    "df['collections_12_mths_ex_med'].fillna(df['collections_12_mths_ex_med'].mean(), inplace=True)"
   ]
  },
  {
   "cell_type": "code",
   "execution_count": null,
   "metadata": {},
   "outputs": [],
   "source": [
    "df['last_credit_pull_date'].fillna(df['last_credit_pull_date'].mode()[0], inplace=True)"
   ]
  },
  {
   "cell_type": "code",
   "execution_count": null,
   "metadata": {},
   "outputs": [],
   "source": [
    "# Create an instance of the Plotter class\n",
    "plotter = Plotter()\n",
    "\n",
    "# Assuming 'df' is your DataFrame, pass it to the visualize_nulls method\n",
    "plotter.visualize_nulls(df)"
   ]
  },
  {
   "cell_type": "code",
   "execution_count": null,
   "metadata": {},
   "outputs": [],
   "source": [
    "numeric_cols = df.select_dtypes(include=['number'])\n",
    "for i in numeric_cols:\n",
    "    print(i)"
   ]
  },
  {
   "cell_type": "code",
   "execution_count": null,
   "metadata": {},
   "outputs": [],
   "source": [
    "skewed_columns = [col for col in numeric_cols if df[col].skew() > 0.5]\n",
    "skewed_columns"
   ]
  },
  {
   "cell_type": "code",
   "execution_count": null,
   "metadata": {},
   "outputs": [],
   "source": [
    "skewness  = numeric_cols.skew()\n",
    "skewness"
   ]
  },
  {
   "cell_type": "code",
   "execution_count": null,
   "metadata": {},
   "outputs": [],
   "source": [
    "skewness  = df[skewed_columns].skew()\n",
    "skewness"
   ]
  },
  {
   "cell_type": "code",
   "execution_count": null,
   "metadata": {},
   "outputs": [],
   "source": [
    "for col in numeric_cols:\n",
    "    df[col] = np.log1p(df[col])"
   ]
  },
  {
   "cell_type": "code",
   "execution_count": null,
   "metadata": {},
   "outputs": [],
   "source": [
    "new_skewness = df[skewed_columns].skew()\n",
    "new_skewness"
   ]
  },
  {
   "cell_type": "code",
   "execution_count": null,
   "metadata": {},
   "outputs": [],
   "source": [
    "plotter.visualize_skew(df)"
   ]
  },
  {
   "cell_type": "code",
   "execution_count": null,
   "metadata": {},
   "outputs": [],
   "source": [
    "plotter.visualize_skew_sns(df, skewed_columns)"
   ]
  },
  {
   "cell_type": "code",
   "execution_count": null,
   "metadata": {},
   "outputs": [],
   "source": [
    "for col in skewed_columns:\n",
    "    if df[col].skew() > 0.5:  # threshhold\n",
    "        df[col] = np.log1p(df[col]) "
   ]
  },
  {
   "cell_type": "code",
   "execution_count": null,
   "metadata": {},
   "outputs": [],
   "source": [
    "plotter.visualize_skew_sns(df, skewed_columns)"
   ]
  },
  {
   "cell_type": "code",
   "execution_count": null,
   "metadata": {},
   "outputs": [],
   "source": [
    "plotter.visualize_outliers(df, numeric_cols)"
   ]
  },
  {
   "cell_type": "code",
   "execution_count": null,
   "metadata": {},
   "outputs": [],
   "source": [
    "cleaned_numeric_column = transformer.remove_outliers(df, numeric_cols)"
   ]
  },
  {
   "cell_type": "code",
   "execution_count": null,
   "metadata": {},
   "outputs": [],
   "source": [
    "plotter.visualize_outliers(df, cleaned_numeric_column)"
   ]
  },
  {
   "cell_type": "code",
   "execution_count": null,
   "metadata": {},
   "outputs": [],
   "source": [
    "numeric_cor = numeric_cols.corr()\n",
    "numeric_cor"
   ]
  },
  {
   "cell_type": "code",
   "execution_count": null,
   "metadata": {},
   "outputs": [],
   "source": [
    "plt.figure(figsize=(10, 8))\n",
    "\n",
    "sns.heatmap(numeric_cor, annot=True, cmap='coolwarm', fmt=\".2f\", annot_kws={\"fontsize\": 8})\n",
    "plt.title('Numeric columns correlation after handling nulls')\n",
    "plt.show()"
   ]
  },
  {
   "cell_type": "code",
   "execution_count": null,
   "metadata": {},
   "outputs": [],
   "source": [
    "corr_threshhold = 0.90\n",
    "# Create a mask to identify highly correlated features\n",
    "upper = numeric_cor.where(np.triu(np.ones(numeric_cor.shape), k=1) == 1)\n",
    "highly_correlated_columns = [column for column in upper.columns if any(upper[column] > corr_threshhold)]\n"
   ]
  },
  {
   "cell_type": "code",
   "execution_count": null,
   "metadata": {},
   "outputs": [],
   "source": [
    "print(\"Highly Correlated Columns:\", highly_correlated_columns)\n"
   ]
  },
  {
   "cell_type": "code",
   "execution_count": null,
   "metadata": {},
   "outputs": [],
   "source": [
    "#df_without_highly_correlated_columns = df.drop(highly_correlated_columns, axis=1)\n"
   ]
  },
  {
   "cell_type": "code",
   "execution_count": null,
   "metadata": {},
   "outputs": [],
   "source": [
    "#df_without_highly_correlated_columns.head()"
   ]
  },
  {
   "cell_type": "code",
   "execution_count": 91,
   "metadata": {},
   "outputs": [],
   "source": [
    "#calculate the total recovery percantage and total funded percentage using the funded_amount_inv as the funded amount column has been removed in the transformation\n",
    "#df['recovery_percentage'] = (df['recoveries']/df['funded_amount_inv'])*100\n",
    "#df['total_payment_percentage'] = (df['total_payment']/df['funded_amount_inv'])*100\n",
    "\n",
    "#filtered_recovery = df['recovery_percentage'][np.isfinite(df['recovery_percentage'])]\n",
    "#filtered_total_payment = df['total_payment_percentage'][np.isfinite(df['total_payment_percentage'])]"
   ]
  },
  {
   "cell_type": "code",
   "execution_count": null,
   "metadata": {},
   "outputs": [],
   "source": []
  },
  {
   "cell_type": "code",
   "execution_count": 135,
   "metadata": {},
   "outputs": [
    {
     "name": "stdout",
     "output_type": "stream",
     "text": [
      "Total recovery =  479031.68205856124  Total funded =  503619.5976426212\n"
     ]
    }
   ],
   "source": [
    "total_recovery = df['total_rec_prncp'].sum()\n",
    "total_funded = df['loan_amount'].sum()\n",
    "print('Total recovery = ',total_recovery,' Total funded = ', total_funded)"
   ]
  },
  {
   "cell_type": "code",
   "execution_count": 136,
   "metadata": {},
   "outputs": [
    {
     "name": "stdout",
     "output_type": "stream",
     "text": [
      "id\n",
      "member_id\n",
      "loan_amount\n",
      "funded_amount_inv\n",
      "instalment\n",
      "grade\n",
      "sub_grade\n",
      "home_ownership\n",
      "annual_inc\n",
      "verification_status\n",
      "issue_date\n",
      "loan_status\n",
      "payment_plan\n",
      "purpose\n",
      "dti\n",
      "delinq_2yrs\n",
      "earliest_credit_line\n",
      "inq_last_6mths\n",
      "open_accounts\n",
      "total_accounts\n",
      "out_prncp\n",
      "out_prncp_inv\n",
      "total_payment\n",
      "total_payment_inv\n",
      "total_rec_prncp\n",
      "total_rec_int\n",
      "total_rec_late_fee\n",
      "recoveries\n",
      "collection_recovery_fee\n",
      "last_payment_date\n",
      "last_payment_amount\n",
      "last_credit_pull_date\n",
      "collections_12_mths_ex_med\n",
      "policy_code\n",
      "application_type\n",
      "recovery_percentage\n",
      "total_payment_percentage\n"
     ]
    }
   ],
   "source": [
    "for i in df:\n",
    "    print(i)"
   ]
  },
  {
   "cell_type": "code",
   "execution_count": 137,
   "metadata": {},
   "outputs": [
    {
     "data": {
      "image/png": "[encoded data removed]",
      "text/plain": [
       "<Figure size 640x480 with 1 Axes>"
      ]
     },
     "metadata": {},
     "output_type": "display_data"
    }
   ],
   "source": [
    "\n",
    "# Data for the pie chart\n",
    "percentages = [total_recovery, total_funded]\n",
    "labels = ['Recovery Percentage', 'Total funded Percentage']\n",
    "\n",
    "# Plotting the pie chart\n",
    "plt.pie(percentages, labels=labels, autopct='%1.1f%%', startangle=140)\n",
    "plt.title('Contribution of Recovery and Total Payment Percentages')\n",
    "plt.show()\n"
   ]
  },
  {
   "cell_type": "code",
   "execution_count": 153,
   "metadata": {},
   "outputs": [
    {
     "name": "stdout",
     "output_type": "stream",
     "text": [
      "Total Recovery Percentage within 6 months: 95.11776036930397\n"
     ]
    },
    {
     "data": {
      "text/plain": [
       "(54231, 37)"
      ]
     },
     "execution_count": 153,
     "metadata": {},
     "output_type": "execute_result"
    }
   ],
   "source": [
    "\n",
    "# Get the maximum date from the last_payment_date column\n",
    "max_date = df['last_payment_date'].max()\n",
    "\n",
    "# Calculate 6 months in the future from the maximum date\n",
    "six_months_future = max_date + pd.DateOffset(months=6)\n",
    "\n",
    "# Filter loans with last_payment_date within the next 6 months\n",
    "loans_within_six_months = df[df['last_payment_date'] <= six_months_future]\n",
    "\n",
    "\n",
    "\n",
    "# Calculate the percentage of total amount recovered within 6 months\n",
    "recovery_percentage_within_six_months = (total_recovery / total_funded) * 100\n",
    "\n",
    "print(\"Total Recovery Percentage within 6 months:\", recovery_percentage_within_six_months)\n"
   ]
  },
  {
   "cell_type": "code",
   "execution_count": 144,
   "metadata": {},
   "outputs": [
    {
     "data": {
      "image/png": "[encoded data removed]",
      "text/plain": [
       "<Figure size 600x600 with 1 Axes>"
      ]
     },
     "metadata": {},
     "output_type": "display_data"
    }
   ],
   "source": [
    "\n",
    "\n",
    "# Create a pie chart to visualize the recovery percentage\n",
    "labels = ['Recovered', 'Remaining']\n",
    "sizes = [recovery_percentage_within_six_months, 100 - recovery_percentage_within_six_months]\n",
    "\n",
    "plt.figure(figsize=(6, 6))\n",
    "plt.pie(sizes,  labels=labels, autopct='%1.1f%%', shadow=True, startangle=140)\n",
    "plt.title('Percentage of Total Amount Recovered within 6 Months')\n",
    "plt.axis('equal')  # Equal aspect ratio ensures that pie is drawn as a circle.\n",
    "plt.show()\n"
   ]
  },
  {
   "cell_type": "code",
   "execution_count": null,
   "metadata": {},
   "outputs": [],
   "source": []
  }
 ],
 "metadata": {
  "kernelspec": {
   "display_name": "myenv",
   "language": "python",
   "name": "python3"
  },
  "language_info": {
   "codemirror_mode": {
    "name": "ipython",
    "version": 3
   },
   "file_extension": ".py",
   "mimetype": "text/x-python",
   "name": "python",
   "nbconvert_exporter": "python",
   "pygments_lexer": "ipython3",
   "version": "3.12.0"
  }
 },
 "nbformat": 4,
 "nbformat_minor": 2
}
